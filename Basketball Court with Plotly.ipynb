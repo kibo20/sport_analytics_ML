{
 "cells": [
  {
   "cell_type": "code",
   "execution_count": 1,
   "metadata": {},
   "outputs": [
    {
     "data": {
      "text/html": [
       "        <script type=\"text/javascript\">\n",
       "        window.PlotlyConfig = {MathJaxConfig: 'local'};\n",
       "        if (window.MathJax && window.MathJax.Hub && window.MathJax.Hub.Config) {window.MathJax.Hub.Config({SVG: {font: \"STIX-Web\"}});}\n",
       "        if (typeof require !== 'undefined') {\n",
       "        require.undef(\"plotly\");\n",
       "        requirejs.config({\n",
       "            paths: {\n",
       "                'plotly': ['https://cdn.plot.ly/plotly-2.14.0.min']\n",
       "            }\n",
       "        });\n",
       "        require(['plotly'], function(Plotly) {\n",
       "            window._Plotly = Plotly;\n",
       "        });\n",
       "        }\n",
       "        </script>\n",
       "        "
      ]
     },
     "metadata": {},
     "output_type": "display_data"
    }
   ],
   "source": [
    "import pandas as pd\n",
    "import numpy as np\n",
    "import scipy as sp\n",
    "import chart_studio.plotly as py\n",
    "import plotly.figure_factory as ff\n",
    "\n",
    "from plotly.offline import init_notebook_mode, iplot\n",
    "init_notebook_mode(connected=True)         # initiate notebook for offline plot"
   ]
  },
  {
   "cell_type": "code",
   "execution_count": 2,
   "metadata": {},
   "outputs": [],
   "source": [
    "import plotly.express as px\n",
    "import plotly.graph_objects as go"
   ]
  },
  {
   "cell_type": "code",
   "execution_count": 3,
   "metadata": {},
   "outputs": [],
   "source": [
    "def draw_plotly_court(fig, fig_width=600, margins=10):\n",
    "    trace1 = go.Scatter(\n",
    "        x = [47],\n",
    "        y = [25]\n",
    "    )\n",
    "\n",
    "    # outer\n",
    "    outer_shape = {\n",
    "        'type': 'rect',\n",
    "        'x0': 0,\n",
    "        'y0': 0,\n",
    "        'x1': 94,\n",
    "        'y1': 50,\n",
    "        'line': {\n",
    "            'color': 'rgba(0,0,0,1)',\n",
    "            'width': 1\n",
    "        },\n",
    "    }\n",
    "\n",
    "    # left backboard\n",
    "    left_backboard_shape = {\n",
    "        'type': 'line',\n",
    "        'x0': 4,\n",
    "        'y0': 22,\n",
    "        'x1': 4,\n",
    "        'y1': 28,\n",
    "        'line': {\n",
    "            'color': 'rgba(0,0,0,1)',\n",
    "            'width': 1\n",
    "        },\n",
    "    }\n",
    "\n",
    "    # right backboard\n",
    "    right_backboard_shape = {\n",
    "        'type': 'line',\n",
    "        'x0': 90,\n",
    "        'y0': 22,\n",
    "        'x1': 90,\n",
    "        'y1': 28,\n",
    "        'line': {\n",
    "            'color': 'rgba(0,0,0,1)',\n",
    "            'width': 1\n",
    "        },\n",
    "    }\n",
    "\n",
    "    # left outer box\n",
    "    left_outerbox_shape = {\n",
    "        'type': 'rect',\n",
    "        'x0': 0,\n",
    "        'y0': 17,\n",
    "        'x1': 19,\n",
    "        'y1': 33,\n",
    "        'line': {\n",
    "            'color': 'rgba(0,0,0,1)',\n",
    "            'width': 1\n",
    "        },\n",
    "    }\n",
    "\n",
    "    # left inner box\n",
    "    left_innerbox_shape = {\n",
    "        'type': 'rect',\n",
    "        'x0': 0,\n",
    "        'y0': 19,\n",
    "        'x1': 19,\n",
    "        'y1': 31,\n",
    "        'line': {\n",
    "            'color': 'rgba(0,0,0,1)',\n",
    "            'width': 1\n",
    "        },\n",
    "    }\n",
    "\n",
    "    # right outer box\n",
    "    right_outerbox_shape = {\n",
    "        'type': 'rect',\n",
    "        'x0': 75,\n",
    "        'y0': 17,\n",
    "        'x1': 94,\n",
    "        'y1': 33,\n",
    "        'line': {\n",
    "            'color': 'rgba(0,0,0,1)',\n",
    "            'width': 1\n",
    "        },\n",
    "    }\n",
    "\n",
    "    # right inner box\n",
    "    right_innerbox_shape = {\n",
    "        'type': 'rect',\n",
    "        'x0': 75,\n",
    "        'y0': 19,\n",
    "        'x1': 94,\n",
    "        'y1': 31,\n",
    "        'line': {\n",
    "            'color': 'rgba(0,0,0,1)',\n",
    "            'width': 1\n",
    "        },\n",
    "    }\n",
    "\n",
    "    # left corner a\n",
    "    leftcorner_topline_shape = {\n",
    "        'type': 'rect',\n",
    "        'x0': 0,\n",
    "        'y0': 47,\n",
    "        'x1': 14,\n",
    "        'y1': 47,\n",
    "        'line': {\n",
    "            'color': 'rgba(0,0,0,1)',\n",
    "            'width': 1\n",
    "        },\n",
    "    }\n",
    "\n",
    "    # left corner b\n",
    "    leftcorner_bottomline_shape = {\n",
    "        'type': 'rect',\n",
    "        'x0': 0,\n",
    "        'y0': 3,\n",
    "        'x1': 14,\n",
    "        'y1': 3,\n",
    "        'line': {\n",
    "            'color': 'rgba(0,0,0,1)',\n",
    "            'width': 1\n",
    "        },\n",
    "    }\n",
    "\n",
    "    # right corner a\n",
    "    rightcorner_topline_shape = {\n",
    "        'type': 'rect',\n",
    "        'x0': 80,\n",
    "        'y0': 47,\n",
    "        'x1': 94,\n",
    "        'y1': 47,\n",
    "        'line': {\n",
    "            'color': 'rgba(0,0,0,1)',\n",
    "            'width': 1\n",
    "        },\n",
    "    }\n",
    "\n",
    "    # right corner b\n",
    "    rightcorner_bottomline_shape = {\n",
    "        'type': 'rect',\n",
    "        'x0': 80,\n",
    "        'y0': 3,\n",
    "        'x1': 94,\n",
    "        'y1': 3,\n",
    "        'line': {\n",
    "            'color': 'rgba(0,0,0,1)',\n",
    "            'width': 1\n",
    "        },\n",
    "    }\n",
    "\n",
    "    # half court\n",
    "    half_court_shape = {\n",
    "        'type': 'rect',\n",
    "        'x0': 47,\n",
    "        'y0': 0,\n",
    "        'x1': 47,\n",
    "        'y1': 50,\n",
    "        'line': {\n",
    "            'color': 'rgba(0,0,0,1)',\n",
    "            'width': 1\n",
    "        },\n",
    "    }\n",
    "\n",
    "    # left hoop\n",
    "    left_hoop_shape = {\n",
    "        'type': 'circle',\n",
    "        'x0': 6.1,\n",
    "        'y0': 25.75,\n",
    "        'x1': 4.6,\n",
    "        'y1': 24.25,\n",
    "        'line': {\n",
    "            'color': 'rgba(0,0,0,1)',\n",
    "            'width': 1\n",
    "        },\n",
    "    }\n",
    "\n",
    "    # right hoop\n",
    "    right_hoop_shape = {\n",
    "        'type': 'circle',\n",
    "        'x0': 89.4,\n",
    "        'y0': 25.75,\n",
    "        'x1': 87.9,\n",
    "        'y1': 24.25,\n",
    "        'line': {\n",
    "            'color': 'rgba(0,0,0,1)',\n",
    "            'width': 1\n",
    "        },\n",
    "    }\n",
    "\n",
    "    # left free throw circle\n",
    "    left_freethrow_shape = {\n",
    "        'type': 'circle',\n",
    "        'x0': 25,\n",
    "        'y0': 31,\n",
    "        'x1': 13,\n",
    "        'y1': 19,\n",
    "        'line': {\n",
    "            'color': 'rgba(0,0,0,1)',\n",
    "            'width': 1\n",
    "        },\n",
    "    }\n",
    "\n",
    "    # right free throw circle\n",
    "    right_freethrow_shape = {\n",
    "        'type': 'circle',\n",
    "        'x0': 81,\n",
    "        'y0': 31,\n",
    "        'x1': 69,\n",
    "        'y1': 19,\n",
    "        'line': {\n",
    "            'color': 'rgba(0,0,0,1)',\n",
    "            'width': 1\n",
    "        },\n",
    "    }\n",
    "\n",
    "    # center big circle\n",
    "    center_big_shape = {\n",
    "        'type': 'circle',\n",
    "        'x0': 53,\n",
    "        'y0': 31,\n",
    "        'x1': 41,\n",
    "        'y1': 19,\n",
    "        'line': {\n",
    "            'color': 'rgba(0,0,0,1)',\n",
    "            'width': 1\n",
    "        },\n",
    "    }\n",
    "\n",
    "    # center small circle\n",
    "    center_small_shape = {\n",
    "        'type': 'circle',\n",
    "        'x0': 49,\n",
    "        'y0': 27,\n",
    "        'x1': 45,\n",
    "        'y1': 23,\n",
    "        'line': {\n",
    "            'color': 'rgba(0,0,0,1)',\n",
    "            'width': 1\n",
    "        },\n",
    "    }\n",
    "\n",
    "    # left arc shape\n",
    "    left_arc_shape = {\n",
    "        'type': 'path',\n",
    "        'path': 'M 14,47 Q 45,25 14,3',\n",
    "        'line': {\n",
    "            'color': 'rgba(0,0,0,1)',\n",
    "            'width': 1\n",
    "        },\n",
    "    }\n",
    "\n",
    "    # right arc shape\n",
    "    right_arc_shape = {\n",
    "        'type': 'path',\n",
    "        'path': 'M 80,47 Q 49,25 80,3',\n",
    "        'line': {\n",
    "            'color': 'rgba(0,0,0,1)',\n",
    "            'width': 1\n",
    "        },\n",
    "    }\n",
    "\n",
    "    _shapes = [\n",
    "        outer_shape,\n",
    "        left_backboard_shape,\n",
    "        right_backboard_shape,\n",
    "        left_outerbox_shape,\n",
    "        left_innerbox_shape,\n",
    "        right_outerbox_shape,\n",
    "        right_innerbox_shape,\n",
    "        leftcorner_topline_shape,\n",
    "        leftcorner_bottomline_shape,\n",
    "        rightcorner_topline_shape,\n",
    "        rightcorner_bottomline_shape,\n",
    "        half_court_shape,\n",
    "        left_hoop_shape,\n",
    "        right_hoop_shape,\n",
    "        left_freethrow_shape,\n",
    "        right_freethrow_shape,\n",
    "        center_big_shape,\n",
    "        center_small_shape,\n",
    "        left_arc_shape,\n",
    "        right_arc_shape\n",
    "    ]\n",
    "\n",
    "\n",
    "    layout = go.Layout(\n",
    "        title = 'Basketball Court with Plotly',\n",
    "        shapes = _shapes\n",
    "    )\n",
    "\n",
    "    fig = go.Figure(data = [trace1], layout=layout)\n",
    "\n",
    "    fig.update_layout(\n",
    "            # Line Horizontal\n",
    "            margin=dict(l=20, r=20, t=20, b=20),\n",
    "            paper_bgcolor=\"white\",\n",
    "            plot_bgcolor=\"white\",\n",
    "            yaxis=dict(\n",
    "                scaleanchor=\"x\",\n",
    "                scaleratio=1,\n",
    "                showgrid=False,\n",
    "                zeroline=False,\n",
    "                showline=False,\n",
    "                ticks='',\n",
    "                showticklabels=False,\n",
    "                fixedrange=True,\n",
    "            ),\n",
    "            xaxis=dict(\n",
    "                showgrid=False,\n",
    "                zeroline=False,\n",
    "                showline=False,\n",
    "                ticks='',\n",
    "                showticklabels=False,\n",
    "                fixedrange=True,\n",
    "            )\n",
    "    )\n",
    "    return iplot(fig)"
   ]
  },
  {
   "cell_type": "code",
   "execution_count": 4,
   "metadata": {},
   "outputs": [
    {
     "data": {
      "application/vnd.plotly.v1+json": {
       "config": {
        "linkText": "Export to plot.ly",
        "plotlyServerURL": "https://plot.ly",
        "showLink": false
       },
       "data": [
        {
         "type": "scatter",
         "x": [
          47
         ],
         "y": [
          25
         ]
        }
       ],
       "layout": {
        "margin": {
         "b": 20,
         "l": 20,
         "r": 20,
         "t": 20
        },
        "paper_bgcolor": "white",
        "plot_bgcolor": "white",
        "shapes": [
         {
          "line": {
           "color": "rgba(0,0,0,1)",
           "width": 1
          },
          "type": "rect",
          "x0": 0,
          "x1": 94,
          "y0": 0,
          "y1": 50
         },
         {
          "line": {
           "color": "rgba(0,0,0,1)",
           "width": 1
          },
          "type": "line",
          "x0": 4,
          "x1": 4,
          "y0": 22,
          "y1": 28
         },
         {
          "line": {
           "color": "rgba(0,0,0,1)",
           "width": 1
          },
          "type": "line",
          "x0": 90,
          "x1": 90,
          "y0": 22,
          "y1": 28
         },
         {
          "line": {
           "color": "rgba(0,0,0,1)",
           "width": 1
          },
          "type": "rect",
          "x0": 0,
          "x1": 19,
          "y0": 17,
          "y1": 33
         },
         {
          "line": {
           "color": "rgba(0,0,0,1)",
           "width": 1
          },
          "type": "rect",
          "x0": 0,
          "x1": 19,
          "y0": 19,
          "y1": 31
         },
         {
          "line": {
           "color": "rgba(0,0,0,1)",
           "width": 1
          },
          "type": "rect",
          "x0": 75,
          "x1": 94,
          "y0": 17,
          "y1": 33
         },
         {
          "line": {
           "color": "rgba(0,0,0,1)",
           "width": 1
          },
          "type": "rect",
          "x0": 75,
          "x1": 94,
          "y0": 19,
          "y1": 31
         },
         {
          "line": {
           "color": "rgba(0,0,0,1)",
           "width": 1
          },
          "type": "rect",
          "x0": 0,
          "x1": 14,
          "y0": 47,
          "y1": 47
         },
         {
          "line": {
           "color": "rgba(0,0,0,1)",
           "width": 1
          },
          "type": "rect",
          "x0": 0,
          "x1": 14,
          "y0": 3,
          "y1": 3
         },
         {
          "line": {
           "color": "rgba(0,0,0,1)",
           "width": 1
          },
          "type": "rect",
          "x0": 80,
          "x1": 94,
          "y0": 47,
          "y1": 47
         },
         {
          "line": {
           "color": "rgba(0,0,0,1)",
           "width": 1
          },
          "type": "rect",
          "x0": 80,
          "x1": 94,
          "y0": 3,
          "y1": 3
         },
         {
          "line": {
           "color": "rgba(0,0,0,1)",
           "width": 1
          },
          "type": "rect",
          "x0": 47,
          "x1": 47,
          "y0": 0,
          "y1": 50
         },
         {
          "line": {
           "color": "rgba(0,0,0,1)",
           "width": 1
          },
          "type": "circle",
          "x0": 6.1,
          "x1": 4.6,
          "y0": 25.75,
          "y1": 24.25
         },
         {
          "line": {
           "color": "rgba(0,0,0,1)",
           "width": 1
          },
          "type": "circle",
          "x0": 89.4,
          "x1": 87.9,
          "y0": 25.75,
          "y1": 24.25
         },
         {
          "line": {
           "color": "rgba(0,0,0,1)",
           "width": 1
          },
          "type": "circle",
          "x0": 25,
          "x1": 13,
          "y0": 31,
          "y1": 19
         },
         {
          "line": {
           "color": "rgba(0,0,0,1)",
           "width": 1
          },
          "type": "circle",
          "x0": 81,
          "x1": 69,
          "y0": 31,
          "y1": 19
         },
         {
          "line": {
           "color": "rgba(0,0,0,1)",
           "width": 1
          },
          "type": "circle",
          "x0": 53,
          "x1": 41,
          "y0": 31,
          "y1": 19
         },
         {
          "line": {
           "color": "rgba(0,0,0,1)",
           "width": 1
          },
          "type": "circle",
          "x0": 49,
          "x1": 45,
          "y0": 27,
          "y1": 23
         },
         {
          "line": {
           "color": "rgba(0,0,0,1)",
           "width": 1
          },
          "path": "M 14,47 Q 45,25 14,3",
          "type": "path"
         },
         {
          "line": {
           "color": "rgba(0,0,0,1)",
           "width": 1
          },
          "path": "M 80,47 Q 49,25 80,3",
          "type": "path"
         }
        ],
        "template": {
         "data": {
          "bar": [
           {
            "error_x": {
             "color": "#2a3f5f"
            },
            "error_y": {
             "color": "#2a3f5f"
            },
            "marker": {
             "line": {
              "color": "#E5ECF6",
              "width": 0.5
             },
             "pattern": {
              "fillmode": "overlay",
              "size": 10,
              "solidity": 0.2
             }
            },
            "type": "bar"
           }
          ],
          "barpolar": [
           {
            "marker": {
             "line": {
              "color": "#E5ECF6",
              "width": 0.5
             },
             "pattern": {
              "fillmode": "overlay",
              "size": 10,
              "solidity": 0.2
             }
            },
            "type": "barpolar"
           }
          ],
          "carpet": [
           {
            "aaxis": {
             "endlinecolor": "#2a3f5f",
             "gridcolor": "white",
             "linecolor": "white",
             "minorgridcolor": "white",
             "startlinecolor": "#2a3f5f"
            },
            "baxis": {
             "endlinecolor": "#2a3f5f",
             "gridcolor": "white",
             "linecolor": "white",
             "minorgridcolor": "white",
             "startlinecolor": "#2a3f5f"
            },
            "type": "carpet"
           }
          ],
          "choropleth": [
           {
            "colorbar": {
             "outlinewidth": 0,
             "ticks": ""
            },
            "type": "choropleth"
           }
          ],
          "contour": [
           {
            "colorbar": {
             "outlinewidth": 0,
             "ticks": ""
            },
            "colorscale": [
             [
              0,
              "#0d0887"
             ],
             [
              0.1111111111111111,
              "#46039f"
             ],
             [
              0.2222222222222222,
              "#7201a8"
             ],
             [
              0.3333333333333333,
              "#9c179e"
             ],
             [
              0.4444444444444444,
              "#bd3786"
             ],
             [
              0.5555555555555556,
              "#d8576b"
             ],
             [
              0.6666666666666666,
              "#ed7953"
             ],
             [
              0.7777777777777778,
              "#fb9f3a"
             ],
             [
              0.8888888888888888,
              "#fdca26"
             ],
             [
              1,
              "#f0f921"
             ]
            ],
            "type": "contour"
           }
          ],
          "contourcarpet": [
           {
            "colorbar": {
             "outlinewidth": 0,
             "ticks": ""
            },
            "type": "contourcarpet"
           }
          ],
          "heatmap": [
           {
            "colorbar": {
             "outlinewidth": 0,
             "ticks": ""
            },
            "colorscale": [
             [
              0,
              "#0d0887"
             ],
             [
              0.1111111111111111,
              "#46039f"
             ],
             [
              0.2222222222222222,
              "#7201a8"
             ],
             [
              0.3333333333333333,
              "#9c179e"
             ],
             [
              0.4444444444444444,
              "#bd3786"
             ],
             [
              0.5555555555555556,
              "#d8576b"
             ],
             [
              0.6666666666666666,
              "#ed7953"
             ],
             [
              0.7777777777777778,
              "#fb9f3a"
             ],
             [
              0.8888888888888888,
              "#fdca26"
             ],
             [
              1,
              "#f0f921"
             ]
            ],
            "type": "heatmap"
           }
          ],
          "heatmapgl": [
           {
            "colorbar": {
             "outlinewidth": 0,
             "ticks": ""
            },
            "colorscale": [
             [
              0,
              "#0d0887"
             ],
             [
              0.1111111111111111,
              "#46039f"
             ],
             [
              0.2222222222222222,
              "#7201a8"
             ],
             [
              0.3333333333333333,
              "#9c179e"
             ],
             [
              0.4444444444444444,
              "#bd3786"
             ],
             [
              0.5555555555555556,
              "#d8576b"
             ],
             [
              0.6666666666666666,
              "#ed7953"
             ],
             [
              0.7777777777777778,
              "#fb9f3a"
             ],
             [
              0.8888888888888888,
              "#fdca26"
             ],
             [
              1,
              "#f0f921"
             ]
            ],
            "type": "heatmapgl"
           }
          ],
          "histogram": [
           {
            "marker": {
             "pattern": {
              "fillmode": "overlay",
              "size": 10,
              "solidity": 0.2
             }
            },
            "type": "histogram"
           }
          ],
          "histogram2d": [
           {
            "colorbar": {
             "outlinewidth": 0,
             "ticks": ""
            },
            "colorscale": [
             [
              0,
              "#0d0887"
             ],
             [
              0.1111111111111111,
              "#46039f"
             ],
             [
              0.2222222222222222,
              "#7201a8"
             ],
             [
              0.3333333333333333,
              "#9c179e"
             ],
             [
              0.4444444444444444,
              "#bd3786"
             ],
             [
              0.5555555555555556,
              "#d8576b"
             ],
             [
              0.6666666666666666,
              "#ed7953"
             ],
             [
              0.7777777777777778,
              "#fb9f3a"
             ],
             [
              0.8888888888888888,
              "#fdca26"
             ],
             [
              1,
              "#f0f921"
             ]
            ],
            "type": "histogram2d"
           }
          ],
          "histogram2dcontour": [
           {
            "colorbar": {
             "outlinewidth": 0,
             "ticks": ""
            },
            "colorscale": [
             [
              0,
              "#0d0887"
             ],
             [
              0.1111111111111111,
              "#46039f"
             ],
             [
              0.2222222222222222,
              "#7201a8"
             ],
             [
              0.3333333333333333,
              "#9c179e"
             ],
             [
              0.4444444444444444,
              "#bd3786"
             ],
             [
              0.5555555555555556,
              "#d8576b"
             ],
             [
              0.6666666666666666,
              "#ed7953"
             ],
             [
              0.7777777777777778,
              "#fb9f3a"
             ],
             [
              0.8888888888888888,
              "#fdca26"
             ],
             [
              1,
              "#f0f921"
             ]
            ],
            "type": "histogram2dcontour"
           }
          ],
          "mesh3d": [
           {
            "colorbar": {
             "outlinewidth": 0,
             "ticks": ""
            },
            "type": "mesh3d"
           }
          ],
          "parcoords": [
           {
            "line": {
             "colorbar": {
              "outlinewidth": 0,
              "ticks": ""
             }
            },
            "type": "parcoords"
           }
          ],
          "pie": [
           {
            "automargin": true,
            "type": "pie"
           }
          ],
          "scatter": [
           {
            "fillpattern": {
             "fillmode": "overlay",
             "size": 10,
             "solidity": 0.2
            },
            "type": "scatter"
           }
          ],
          "scatter3d": [
           {
            "line": {
             "colorbar": {
              "outlinewidth": 0,
              "ticks": ""
             }
            },
            "marker": {
             "colorbar": {
              "outlinewidth": 0,
              "ticks": ""
             }
            },
            "type": "scatter3d"
           }
          ],
          "scattercarpet": [
           {
            "marker": {
             "colorbar": {
              "outlinewidth": 0,
              "ticks": ""
             }
            },
            "type": "scattercarpet"
           }
          ],
          "scattergeo": [
           {
            "marker": {
             "colorbar": {
              "outlinewidth": 0,
              "ticks": ""
             }
            },
            "type": "scattergeo"
           }
          ],
          "scattergl": [
           {
            "marker": {
             "colorbar": {
              "outlinewidth": 0,
              "ticks": ""
             }
            },
            "type": "scattergl"
           }
          ],
          "scattermapbox": [
           {
            "marker": {
             "colorbar": {
              "outlinewidth": 0,
              "ticks": ""
             }
            },
            "type": "scattermapbox"
           }
          ],
          "scatterpolar": [
           {
            "marker": {
             "colorbar": {
              "outlinewidth": 0,
              "ticks": ""
             }
            },
            "type": "scatterpolar"
           }
          ],
          "scatterpolargl": [
           {
            "marker": {
             "colorbar": {
              "outlinewidth": 0,
              "ticks": ""
             }
            },
            "type": "scatterpolargl"
           }
          ],
          "scatterternary": [
           {
            "marker": {
             "colorbar": {
              "outlinewidth": 0,
              "ticks": ""
             }
            },
            "type": "scatterternary"
           }
          ],
          "surface": [
           {
            "colorbar": {
             "outlinewidth": 0,
             "ticks": ""
            },
            "colorscale": [
             [
              0,
              "#0d0887"
             ],
             [
              0.1111111111111111,
              "#46039f"
             ],
             [
              0.2222222222222222,
              "#7201a8"
             ],
             [
              0.3333333333333333,
              "#9c179e"
             ],
             [
              0.4444444444444444,
              "#bd3786"
             ],
             [
              0.5555555555555556,
              "#d8576b"
             ],
             [
              0.6666666666666666,
              "#ed7953"
             ],
             [
              0.7777777777777778,
              "#fb9f3a"
             ],
             [
              0.8888888888888888,
              "#fdca26"
             ],
             [
              1,
              "#f0f921"
             ]
            ],
            "type": "surface"
           }
          ],
          "table": [
           {
            "cells": {
             "fill": {
              "color": "#EBF0F8"
             },
             "line": {
              "color": "white"
             }
            },
            "header": {
             "fill": {
              "color": "#C8D4E3"
             },
             "line": {
              "color": "white"
             }
            },
            "type": "table"
           }
          ]
         },
         "layout": {
          "annotationdefaults": {
           "arrowcolor": "#2a3f5f",
           "arrowhead": 0,
           "arrowwidth": 1
          },
          "autotypenumbers": "strict",
          "coloraxis": {
           "colorbar": {
            "outlinewidth": 0,
            "ticks": ""
           }
          },
          "colorscale": {
           "diverging": [
            [
             0,
             "#8e0152"
            ],
            [
             0.1,
             "#c51b7d"
            ],
            [
             0.2,
             "#de77ae"
            ],
            [
             0.3,
             "#f1b6da"
            ],
            [
             0.4,
             "#fde0ef"
            ],
            [
             0.5,
             "#f7f7f7"
            ],
            [
             0.6,
             "#e6f5d0"
            ],
            [
             0.7,
             "#b8e186"
            ],
            [
             0.8,
             "#7fbc41"
            ],
            [
             0.9,
             "#4d9221"
            ],
            [
             1,
             "#276419"
            ]
           ],
           "sequential": [
            [
             0,
             "#0d0887"
            ],
            [
             0.1111111111111111,
             "#46039f"
            ],
            [
             0.2222222222222222,
             "#7201a8"
            ],
            [
             0.3333333333333333,
             "#9c179e"
            ],
            [
             0.4444444444444444,
             "#bd3786"
            ],
            [
             0.5555555555555556,
             "#d8576b"
            ],
            [
             0.6666666666666666,
             "#ed7953"
            ],
            [
             0.7777777777777778,
             "#fb9f3a"
            ],
            [
             0.8888888888888888,
             "#fdca26"
            ],
            [
             1,
             "#f0f921"
            ]
           ],
           "sequentialminus": [
            [
             0,
             "#0d0887"
            ],
            [
             0.1111111111111111,
             "#46039f"
            ],
            [
             0.2222222222222222,
             "#7201a8"
            ],
            [
             0.3333333333333333,
             "#9c179e"
            ],
            [
             0.4444444444444444,
             "#bd3786"
            ],
            [
             0.5555555555555556,
             "#d8576b"
            ],
            [
             0.6666666666666666,
             "#ed7953"
            ],
            [
             0.7777777777777778,
             "#fb9f3a"
            ],
            [
             0.8888888888888888,
             "#fdca26"
            ],
            [
             1,
             "#f0f921"
            ]
           ]
          },
          "colorway": [
           "#636efa",
           "#EF553B",
           "#00cc96",
           "#ab63fa",
           "#FFA15A",
           "#19d3f3",
           "#FF6692",
           "#B6E880",
           "#FF97FF",
           "#FECB52"
          ],
          "font": {
           "color": "#2a3f5f"
          },
          "geo": {
           "bgcolor": "white",
           "lakecolor": "white",
           "landcolor": "#E5ECF6",
           "showlakes": true,
           "showland": true,
           "subunitcolor": "white"
          },
          "hoverlabel": {
           "align": "left"
          },
          "hovermode": "closest",
          "mapbox": {
           "style": "light"
          },
          "paper_bgcolor": "white",
          "plot_bgcolor": "#E5ECF6",
          "polar": {
           "angularaxis": {
            "gridcolor": "white",
            "linecolor": "white",
            "ticks": ""
           },
           "bgcolor": "#E5ECF6",
           "radialaxis": {
            "gridcolor": "white",
            "linecolor": "white",
            "ticks": ""
           }
          },
          "scene": {
           "xaxis": {
            "backgroundcolor": "#E5ECF6",
            "gridcolor": "white",
            "gridwidth": 2,
            "linecolor": "white",
            "showbackground": true,
            "ticks": "",
            "zerolinecolor": "white"
           },
           "yaxis": {
            "backgroundcolor": "#E5ECF6",
            "gridcolor": "white",
            "gridwidth": 2,
            "linecolor": "white",
            "showbackground": true,
            "ticks": "",
            "zerolinecolor": "white"
           },
           "zaxis": {
            "backgroundcolor": "#E5ECF6",
            "gridcolor": "white",
            "gridwidth": 2,
            "linecolor": "white",
            "showbackground": true,
            "ticks": "",
            "zerolinecolor": "white"
           }
          },
          "shapedefaults": {
           "line": {
            "color": "#2a3f5f"
           }
          },
          "ternary": {
           "aaxis": {
            "gridcolor": "white",
            "linecolor": "white",
            "ticks": ""
           },
           "baxis": {
            "gridcolor": "white",
            "linecolor": "white",
            "ticks": ""
           },
           "bgcolor": "#E5ECF6",
           "caxis": {
            "gridcolor": "white",
            "linecolor": "white",
            "ticks": ""
           }
          },
          "title": {
           "x": 0.05
          },
          "xaxis": {
           "automargin": true,
           "gridcolor": "white",
           "linecolor": "white",
           "ticks": "",
           "title": {
            "standoff": 15
           },
           "zerolinecolor": "white",
           "zerolinewidth": 2
          },
          "yaxis": {
           "automargin": true,
           "gridcolor": "white",
           "linecolor": "white",
           "ticks": "",
           "title": {
            "standoff": 15
           },
           "zerolinecolor": "white",
           "zerolinewidth": 2
          }
         }
        },
        "title": {
         "text": "Basketball Court with Plotly"
        },
        "xaxis": {
         "fixedrange": true,
         "showgrid": false,
         "showline": false,
         "showticklabels": false,
         "ticks": "",
         "zeroline": false
        },
        "yaxis": {
         "fixedrange": true,
         "scaleanchor": "x",
         "scaleratio": 1,
         "showgrid": false,
         "showline": false,
         "showticklabels": false,
         "ticks": "",
         "zeroline": false
        }
       }
      },
      "text/html": [
       "<div>                            <div id=\"7eee7359-6ed0-4659-bb6a-7b164ba5ce92\" class=\"plotly-graph-div\" style=\"height:525px; width:100%;\"></div>            <script type=\"text/javascript\">                require([\"plotly\"], function(Plotly) {                    window.PLOTLYENV=window.PLOTLYENV || {};                                    if (document.getElementById(\"7eee7359-6ed0-4659-bb6a-7b164ba5ce92\")) {                    Plotly.newPlot(                        \"7eee7359-6ed0-4659-bb6a-7b164ba5ce92\",                        [{\"x\":[47],\"y\":[25],\"type\":\"scatter\"}],                        {\"margin\":{\"b\":20,\"l\":20,\"r\":20,\"t\":20},\"paper_bgcolor\":\"white\",\"plot_bgcolor\":\"white\",\"shapes\":[{\"line\":{\"color\":\"rgba(0,0,0,1)\",\"width\":1},\"type\":\"rect\",\"x0\":0,\"x1\":94,\"y0\":0,\"y1\":50},{\"line\":{\"color\":\"rgba(0,0,0,1)\",\"width\":1},\"type\":\"line\",\"x0\":4,\"x1\":4,\"y0\":22,\"y1\":28},{\"line\":{\"color\":\"rgba(0,0,0,1)\",\"width\":1},\"type\":\"line\",\"x0\":90,\"x1\":90,\"y0\":22,\"y1\":28},{\"line\":{\"color\":\"rgba(0,0,0,1)\",\"width\":1},\"type\":\"rect\",\"x0\":0,\"x1\":19,\"y0\":17,\"y1\":33},{\"line\":{\"color\":\"rgba(0,0,0,1)\",\"width\":1},\"type\":\"rect\",\"x0\":0,\"x1\":19,\"y0\":19,\"y1\":31},{\"line\":{\"color\":\"rgba(0,0,0,1)\",\"width\":1},\"type\":\"rect\",\"x0\":75,\"x1\":94,\"y0\":17,\"y1\":33},{\"line\":{\"color\":\"rgba(0,0,0,1)\",\"width\":1},\"type\":\"rect\",\"x0\":75,\"x1\":94,\"y0\":19,\"y1\":31},{\"line\":{\"color\":\"rgba(0,0,0,1)\",\"width\":1},\"type\":\"rect\",\"x0\":0,\"x1\":14,\"y0\":47,\"y1\":47},{\"line\":{\"color\":\"rgba(0,0,0,1)\",\"width\":1},\"type\":\"rect\",\"x0\":0,\"x1\":14,\"y0\":3,\"y1\":3},{\"line\":{\"color\":\"rgba(0,0,0,1)\",\"width\":1},\"type\":\"rect\",\"x0\":80,\"x1\":94,\"y0\":47,\"y1\":47},{\"line\":{\"color\":\"rgba(0,0,0,1)\",\"width\":1},\"type\":\"rect\",\"x0\":80,\"x1\":94,\"y0\":3,\"y1\":3},{\"line\":{\"color\":\"rgba(0,0,0,1)\",\"width\":1},\"type\":\"rect\",\"x0\":47,\"x1\":47,\"y0\":0,\"y1\":50},{\"line\":{\"color\":\"rgba(0,0,0,1)\",\"width\":1},\"type\":\"circle\",\"x0\":6.1,\"x1\":4.6,\"y0\":25.75,\"y1\":24.25},{\"line\":{\"color\":\"rgba(0,0,0,1)\",\"width\":1},\"type\":\"circle\",\"x0\":89.4,\"x1\":87.9,\"y0\":25.75,\"y1\":24.25},{\"line\":{\"color\":\"rgba(0,0,0,1)\",\"width\":1},\"type\":\"circle\",\"x0\":25,\"x1\":13,\"y0\":31,\"y1\":19},{\"line\":{\"color\":\"rgba(0,0,0,1)\",\"width\":1},\"type\":\"circle\",\"x0\":81,\"x1\":69,\"y0\":31,\"y1\":19},{\"line\":{\"color\":\"rgba(0,0,0,1)\",\"width\":1},\"type\":\"circle\",\"x0\":53,\"x1\":41,\"y0\":31,\"y1\":19},{\"line\":{\"color\":\"rgba(0,0,0,1)\",\"width\":1},\"type\":\"circle\",\"x0\":49,\"x1\":45,\"y0\":27,\"y1\":23},{\"line\":{\"color\":\"rgba(0,0,0,1)\",\"width\":1},\"path\":\"M 14,47 Q 45,25 14,3\",\"type\":\"path\"},{\"line\":{\"color\":\"rgba(0,0,0,1)\",\"width\":1},\"path\":\"M 80,47 Q 49,25 80,3\",\"type\":\"path\"}],\"template\":{\"data\":{\"barpolar\":[{\"marker\":{\"line\":{\"color\":\"#E5ECF6\",\"width\":0.5},\"pattern\":{\"fillmode\":\"overlay\",\"size\":10,\"solidity\":0.2}},\"type\":\"barpolar\"}],\"bar\":[{\"error_x\":{\"color\":\"#2a3f5f\"},\"error_y\":{\"color\":\"#2a3f5f\"},\"marker\":{\"line\":{\"color\":\"#E5ECF6\",\"width\":0.5},\"pattern\":{\"fillmode\":\"overlay\",\"size\":10,\"solidity\":0.2}},\"type\":\"bar\"}],\"carpet\":[{\"aaxis\":{\"endlinecolor\":\"#2a3f5f\",\"gridcolor\":\"white\",\"linecolor\":\"white\",\"minorgridcolor\":\"white\",\"startlinecolor\":\"#2a3f5f\"},\"baxis\":{\"endlinecolor\":\"#2a3f5f\",\"gridcolor\":\"white\",\"linecolor\":\"white\",\"minorgridcolor\":\"white\",\"startlinecolor\":\"#2a3f5f\"},\"type\":\"carpet\"}],\"choropleth\":[{\"colorbar\":{\"outlinewidth\":0,\"ticks\":\"\"},\"type\":\"choropleth\"}],\"contourcarpet\":[{\"colorbar\":{\"outlinewidth\":0,\"ticks\":\"\"},\"type\":\"contourcarpet\"}],\"contour\":[{\"colorbar\":{\"outlinewidth\":0,\"ticks\":\"\"},\"colorscale\":[[0.0,\"#0d0887\"],[0.1111111111111111,\"#46039f\"],[0.2222222222222222,\"#7201a8\"],[0.3333333333333333,\"#9c179e\"],[0.4444444444444444,\"#bd3786\"],[0.5555555555555556,\"#d8576b\"],[0.6666666666666666,\"#ed7953\"],[0.7777777777777778,\"#fb9f3a\"],[0.8888888888888888,\"#fdca26\"],[1.0,\"#f0f921\"]],\"type\":\"contour\"}],\"heatmapgl\":[{\"colorbar\":{\"outlinewidth\":0,\"ticks\":\"\"},\"colorscale\":[[0.0,\"#0d0887\"],[0.1111111111111111,\"#46039f\"],[0.2222222222222222,\"#7201a8\"],[0.3333333333333333,\"#9c179e\"],[0.4444444444444444,\"#bd3786\"],[0.5555555555555556,\"#d8576b\"],[0.6666666666666666,\"#ed7953\"],[0.7777777777777778,\"#fb9f3a\"],[0.8888888888888888,\"#fdca26\"],[1.0,\"#f0f921\"]],\"type\":\"heatmapgl\"}],\"heatmap\":[{\"colorbar\":{\"outlinewidth\":0,\"ticks\":\"\"},\"colorscale\":[[0.0,\"#0d0887\"],[0.1111111111111111,\"#46039f\"],[0.2222222222222222,\"#7201a8\"],[0.3333333333333333,\"#9c179e\"],[0.4444444444444444,\"#bd3786\"],[0.5555555555555556,\"#d8576b\"],[0.6666666666666666,\"#ed7953\"],[0.7777777777777778,\"#fb9f3a\"],[0.8888888888888888,\"#fdca26\"],[1.0,\"#f0f921\"]],\"type\":\"heatmap\"}],\"histogram2dcontour\":[{\"colorbar\":{\"outlinewidth\":0,\"ticks\":\"\"},\"colorscale\":[[0.0,\"#0d0887\"],[0.1111111111111111,\"#46039f\"],[0.2222222222222222,\"#7201a8\"],[0.3333333333333333,\"#9c179e\"],[0.4444444444444444,\"#bd3786\"],[0.5555555555555556,\"#d8576b\"],[0.6666666666666666,\"#ed7953\"],[0.7777777777777778,\"#fb9f3a\"],[0.8888888888888888,\"#fdca26\"],[1.0,\"#f0f921\"]],\"type\":\"histogram2dcontour\"}],\"histogram2d\":[{\"colorbar\":{\"outlinewidth\":0,\"ticks\":\"\"},\"colorscale\":[[0.0,\"#0d0887\"],[0.1111111111111111,\"#46039f\"],[0.2222222222222222,\"#7201a8\"],[0.3333333333333333,\"#9c179e\"],[0.4444444444444444,\"#bd3786\"],[0.5555555555555556,\"#d8576b\"],[0.6666666666666666,\"#ed7953\"],[0.7777777777777778,\"#fb9f3a\"],[0.8888888888888888,\"#fdca26\"],[1.0,\"#f0f921\"]],\"type\":\"histogram2d\"}],\"histogram\":[{\"marker\":{\"pattern\":{\"fillmode\":\"overlay\",\"size\":10,\"solidity\":0.2}},\"type\":\"histogram\"}],\"mesh3d\":[{\"colorbar\":{\"outlinewidth\":0,\"ticks\":\"\"},\"type\":\"mesh3d\"}],\"parcoords\":[{\"line\":{\"colorbar\":{\"outlinewidth\":0,\"ticks\":\"\"}},\"type\":\"parcoords\"}],\"pie\":[{\"automargin\":true,\"type\":\"pie\"}],\"scatter3d\":[{\"line\":{\"colorbar\":{\"outlinewidth\":0,\"ticks\":\"\"}},\"marker\":{\"colorbar\":{\"outlinewidth\":0,\"ticks\":\"\"}},\"type\":\"scatter3d\"}],\"scattercarpet\":[{\"marker\":{\"colorbar\":{\"outlinewidth\":0,\"ticks\":\"\"}},\"type\":\"scattercarpet\"}],\"scattergeo\":[{\"marker\":{\"colorbar\":{\"outlinewidth\":0,\"ticks\":\"\"}},\"type\":\"scattergeo\"}],\"scattergl\":[{\"marker\":{\"colorbar\":{\"outlinewidth\":0,\"ticks\":\"\"}},\"type\":\"scattergl\"}],\"scattermapbox\":[{\"marker\":{\"colorbar\":{\"outlinewidth\":0,\"ticks\":\"\"}},\"type\":\"scattermapbox\"}],\"scatterpolargl\":[{\"marker\":{\"colorbar\":{\"outlinewidth\":0,\"ticks\":\"\"}},\"type\":\"scatterpolargl\"}],\"scatterpolar\":[{\"marker\":{\"colorbar\":{\"outlinewidth\":0,\"ticks\":\"\"}},\"type\":\"scatterpolar\"}],\"scatter\":[{\"fillpattern\":{\"fillmode\":\"overlay\",\"size\":10,\"solidity\":0.2},\"type\":\"scatter\"}],\"scatterternary\":[{\"marker\":{\"colorbar\":{\"outlinewidth\":0,\"ticks\":\"\"}},\"type\":\"scatterternary\"}],\"surface\":[{\"colorbar\":{\"outlinewidth\":0,\"ticks\":\"\"},\"colorscale\":[[0.0,\"#0d0887\"],[0.1111111111111111,\"#46039f\"],[0.2222222222222222,\"#7201a8\"],[0.3333333333333333,\"#9c179e\"],[0.4444444444444444,\"#bd3786\"],[0.5555555555555556,\"#d8576b\"],[0.6666666666666666,\"#ed7953\"],[0.7777777777777778,\"#fb9f3a\"],[0.8888888888888888,\"#fdca26\"],[1.0,\"#f0f921\"]],\"type\":\"surface\"}],\"table\":[{\"cells\":{\"fill\":{\"color\":\"#EBF0F8\"},\"line\":{\"color\":\"white\"}},\"header\":{\"fill\":{\"color\":\"#C8D4E3\"},\"line\":{\"color\":\"white\"}},\"type\":\"table\"}]},\"layout\":{\"annotationdefaults\":{\"arrowcolor\":\"#2a3f5f\",\"arrowhead\":0,\"arrowwidth\":1},\"autotypenumbers\":\"strict\",\"coloraxis\":{\"colorbar\":{\"outlinewidth\":0,\"ticks\":\"\"}},\"colorscale\":{\"diverging\":[[0,\"#8e0152\"],[0.1,\"#c51b7d\"],[0.2,\"#de77ae\"],[0.3,\"#f1b6da\"],[0.4,\"#fde0ef\"],[0.5,\"#f7f7f7\"],[0.6,\"#e6f5d0\"],[0.7,\"#b8e186\"],[0.8,\"#7fbc41\"],[0.9,\"#4d9221\"],[1,\"#276419\"]],\"sequential\":[[0.0,\"#0d0887\"],[0.1111111111111111,\"#46039f\"],[0.2222222222222222,\"#7201a8\"],[0.3333333333333333,\"#9c179e\"],[0.4444444444444444,\"#bd3786\"],[0.5555555555555556,\"#d8576b\"],[0.6666666666666666,\"#ed7953\"],[0.7777777777777778,\"#fb9f3a\"],[0.8888888888888888,\"#fdca26\"],[1.0,\"#f0f921\"]],\"sequentialminus\":[[0.0,\"#0d0887\"],[0.1111111111111111,\"#46039f\"],[0.2222222222222222,\"#7201a8\"],[0.3333333333333333,\"#9c179e\"],[0.4444444444444444,\"#bd3786\"],[0.5555555555555556,\"#d8576b\"],[0.6666666666666666,\"#ed7953\"],[0.7777777777777778,\"#fb9f3a\"],[0.8888888888888888,\"#fdca26\"],[1.0,\"#f0f921\"]]},\"colorway\":[\"#636efa\",\"#EF553B\",\"#00cc96\",\"#ab63fa\",\"#FFA15A\",\"#19d3f3\",\"#FF6692\",\"#B6E880\",\"#FF97FF\",\"#FECB52\"],\"font\":{\"color\":\"#2a3f5f\"},\"geo\":{\"bgcolor\":\"white\",\"lakecolor\":\"white\",\"landcolor\":\"#E5ECF6\",\"showlakes\":true,\"showland\":true,\"subunitcolor\":\"white\"},\"hoverlabel\":{\"align\":\"left\"},\"hovermode\":\"closest\",\"mapbox\":{\"style\":\"light\"},\"paper_bgcolor\":\"white\",\"plot_bgcolor\":\"#E5ECF6\",\"polar\":{\"angularaxis\":{\"gridcolor\":\"white\",\"linecolor\":\"white\",\"ticks\":\"\"},\"bgcolor\":\"#E5ECF6\",\"radialaxis\":{\"gridcolor\":\"white\",\"linecolor\":\"white\",\"ticks\":\"\"}},\"scene\":{\"xaxis\":{\"backgroundcolor\":\"#E5ECF6\",\"gridcolor\":\"white\",\"gridwidth\":2,\"linecolor\":\"white\",\"showbackground\":true,\"ticks\":\"\",\"zerolinecolor\":\"white\"},\"yaxis\":{\"backgroundcolor\":\"#E5ECF6\",\"gridcolor\":\"white\",\"gridwidth\":2,\"linecolor\":\"white\",\"showbackground\":true,\"ticks\":\"\",\"zerolinecolor\":\"white\"},\"zaxis\":{\"backgroundcolor\":\"#E5ECF6\",\"gridcolor\":\"white\",\"gridwidth\":2,\"linecolor\":\"white\",\"showbackground\":true,\"ticks\":\"\",\"zerolinecolor\":\"white\"}},\"shapedefaults\":{\"line\":{\"color\":\"#2a3f5f\"}},\"ternary\":{\"aaxis\":{\"gridcolor\":\"white\",\"linecolor\":\"white\",\"ticks\":\"\"},\"baxis\":{\"gridcolor\":\"white\",\"linecolor\":\"white\",\"ticks\":\"\"},\"bgcolor\":\"#E5ECF6\",\"caxis\":{\"gridcolor\":\"white\",\"linecolor\":\"white\",\"ticks\":\"\"}},\"title\":{\"x\":0.05},\"xaxis\":{\"automargin\":true,\"gridcolor\":\"white\",\"linecolor\":\"white\",\"ticks\":\"\",\"title\":{\"standoff\":15},\"zerolinecolor\":\"white\",\"zerolinewidth\":2},\"yaxis\":{\"automargin\":true,\"gridcolor\":\"white\",\"linecolor\":\"white\",\"ticks\":\"\",\"title\":{\"standoff\":15},\"zerolinecolor\":\"white\",\"zerolinewidth\":2}}},\"title\":{\"text\":\"Basketball Court with Plotly\"},\"xaxis\":{\"fixedrange\":true,\"showgrid\":false,\"showline\":false,\"showticklabels\":false,\"ticks\":\"\",\"zeroline\":false},\"yaxis\":{\"fixedrange\":true,\"scaleanchor\":\"x\",\"scaleratio\":1,\"showgrid\":false,\"showline\":false,\"showticklabels\":false,\"ticks\":\"\",\"zeroline\":false}},                        {\"responsive\": true}                    ).then(function(){\n",
       "                            \n",
       "var gd = document.getElementById('7eee7359-6ed0-4659-bb6a-7b164ba5ce92');\n",
       "var x = new MutationObserver(function (mutations, observer) {{\n",
       "        var display = window.getComputedStyle(gd).display;\n",
       "        if (!display || display === 'none') {{\n",
       "            console.log([gd, 'removed!']);\n",
       "            Plotly.purge(gd);\n",
       "            observer.disconnect();\n",
       "        }}\n",
       "}});\n",
       "\n",
       "// Listen for the removal of the full notebook cells\n",
       "var notebookContainer = gd.closest('#notebook-container');\n",
       "if (notebookContainer) {{\n",
       "    x.observe(notebookContainer, {childList: true});\n",
       "}}\n",
       "\n",
       "// Listen for the clearing of the current output cell\n",
       "var outputEl = gd.closest('.output');\n",
       "if (outputEl) {{\n",
       "    x.observe(outputEl, {childList: true});\n",
       "}}\n",
       "\n",
       "                        })                };                });            </script>        </div>"
      ]
     },
     "metadata": {},
     "output_type": "display_data"
    }
   ],
   "source": [
    "fig = go.Figure()\n",
    "draw_plotly_court(fig)"
   ]
  }
 ],
 "metadata": {
  "kernelspec": {
   "display_name": "Python 3",
   "language": "python",
   "name": "python3"
  },
  "language_info": {
   "codemirror_mode": {
    "name": "ipython",
    "version": 3
   },
   "file_extension": ".py",
   "mimetype": "text/x-python",
   "name": "python",
   "nbconvert_exporter": "python",
   "pygments_lexer": "ipython3",
   "version": "3.8.5"
  }
 },
 "nbformat": 4,
 "nbformat_minor": 4
}
